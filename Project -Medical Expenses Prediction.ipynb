{
 "cells": [
  {
   "cell_type": "code",
   "execution_count": 1,
   "metadata": {},
   "outputs": [],
   "source": [
    "import numpy as np\n",
    "import pandas as pd\n",
    "import seaborn as sns\n",
    "import matplotlib.pyplot as plt\n",
    "import plotly.express as px\n",
    "\n",
    "plt.rcParams[\"figure.figsize\"] = (16, 5)\n",
    "plt.style.use(\"fivethirtyeight\")"
   ]
  },
  {
   "cell_type": "code",
   "execution_count": 2,
   "metadata": {},
   "outputs": [
    {
     "data": {
      "text/plain": [
       "(1338, 7)"
      ]
     },
     "execution_count": 2,
     "metadata": {},
     "output_type": "execute_result"
    }
   ],
   "source": [
    "# lets read the data set\n",
    "data = pd.read_csv(\"E:\\Data Scince\\med-expense.csv\")\n",
    "data.shape"
   ]
  },
  {
   "cell_type": "code",
   "execution_count": 3,
   "metadata": {},
   "outputs": [
    {
     "data": {
      "text/html": [
       "<div>\n",
       "<style scoped>\n",
       "    .dataframe tbody tr th:only-of-type {\n",
       "        vertical-align: middle;\n",
       "    }\n",
       "\n",
       "    .dataframe tbody tr th {\n",
       "        vertical-align: top;\n",
       "    }\n",
       "\n",
       "    .dataframe thead th {\n",
       "        text-align: right;\n",
       "    }\n",
       "</style>\n",
       "<table border=\"1\" class=\"dataframe\">\n",
       "  <thead>\n",
       "    <tr style=\"text-align: right;\">\n",
       "      <th></th>\n",
       "      <th>age</th>\n",
       "      <th>sex</th>\n",
       "      <th>bmi</th>\n",
       "      <th>children</th>\n",
       "      <th>smoker</th>\n",
       "      <th>region</th>\n",
       "      <th>expenses</th>\n",
       "    </tr>\n",
       "  </thead>\n",
       "  <tbody>\n",
       "    <tr>\n",
       "      <th>0</th>\n",
       "      <td>19</td>\n",
       "      <td>female</td>\n",
       "      <td>27.9</td>\n",
       "      <td>0</td>\n",
       "      <td>yes</td>\n",
       "      <td>southwest</td>\n",
       "      <td>16884.92</td>\n",
       "    </tr>\n",
       "    <tr>\n",
       "      <th>1</th>\n",
       "      <td>18</td>\n",
       "      <td>male</td>\n",
       "      <td>33.8</td>\n",
       "      <td>1</td>\n",
       "      <td>no</td>\n",
       "      <td>southeast</td>\n",
       "      <td>1725.55</td>\n",
       "    </tr>\n",
       "    <tr>\n",
       "      <th>2</th>\n",
       "      <td>28</td>\n",
       "      <td>male</td>\n",
       "      <td>33.0</td>\n",
       "      <td>3</td>\n",
       "      <td>no</td>\n",
       "      <td>southeast</td>\n",
       "      <td>4449.46</td>\n",
       "    </tr>\n",
       "    <tr>\n",
       "      <th>3</th>\n",
       "      <td>33</td>\n",
       "      <td>male</td>\n",
       "      <td>22.7</td>\n",
       "      <td>0</td>\n",
       "      <td>no</td>\n",
       "      <td>northwest</td>\n",
       "      <td>21984.47</td>\n",
       "    </tr>\n",
       "    <tr>\n",
       "      <th>4</th>\n",
       "      <td>32</td>\n",
       "      <td>male</td>\n",
       "      <td>28.9</td>\n",
       "      <td>0</td>\n",
       "      <td>no</td>\n",
       "      <td>northwest</td>\n",
       "      <td>3866.86</td>\n",
       "    </tr>\n",
       "  </tbody>\n",
       "</table>\n",
       "</div>"
      ],
      "text/plain": [
       "   age     sex   bmi  children smoker     region  expenses\n",
       "0   19  female  27.9         0    yes  southwest  16884.92\n",
       "1   18    male  33.8         1     no  southeast   1725.55\n",
       "2   28    male  33.0         3     no  southeast   4449.46\n",
       "3   33    male  22.7         0     no  northwest  21984.47\n",
       "4   32    male  28.9         0     no  northwest   3866.86"
      ]
     },
     "execution_count": 3,
     "metadata": {},
     "output_type": "execute_result"
    }
   ],
   "source": [
    "# lets check the head of the dataset\n",
    "data.head()"
   ]
  },
  {
   "cell_type": "code",
   "execution_count": 4,
   "metadata": {},
   "outputs": [
    {
     "data": {
      "text/plain": [
       "age         0\n",
       "sex         0\n",
       "bmi         0\n",
       "children    0\n",
       "smoker      0\n",
       "region      0\n",
       "expenses    0\n",
       "dtype: int64"
      ]
     },
     "execution_count": 4,
     "metadata": {},
     "output_type": "execute_result"
    }
   ],
   "source": [
    "# lets check the missing values in the dataset\n",
    "data.isnull().sum()"
   ]
  },
  {
   "cell_type": "code",
   "execution_count": 5,
   "metadata": {},
   "outputs": [
    {
     "data": {
      "text/html": [
       "<style  type=\"text/css\" >\n",
       "#T_d2167_row0_col0,#T_d2167_row0_col1,#T_d2167_row0_col2,#T_d2167_row7_col3{\n",
       "            background-color:  #00441b;\n",
       "            color:  #f1f1f1;\n",
       "        }#T_d2167_row0_col3,#T_d2167_row1_col2,#T_d2167_row2_col0,#T_d2167_row2_col1,#T_d2167_row2_col2,#T_d2167_row3_col0,#T_d2167_row3_col2,#T_d2167_row3_col3,#T_d2167_row4_col2,#T_d2167_row5_col2,#T_d2167_row6_col2,#T_d2167_row7_col2{\n",
       "            background-color:  #f7fcf5;\n",
       "            color:  #000000;\n",
       "        }#T_d2167_row1_col0,#T_d2167_row1_col1,#T_d2167_row5_col0,#T_d2167_row5_col1{\n",
       "            background-color:  #f5fbf2;\n",
       "            color:  #000000;\n",
       "        }#T_d2167_row1_col3{\n",
       "            background-color:  #d5efcf;\n",
       "            color:  #000000;\n",
       "        }#T_d2167_row2_col3{\n",
       "            background-color:  #daf0d4;\n",
       "            color:  #000000;\n",
       "        }#T_d2167_row3_col1,#T_d2167_row4_col0{\n",
       "            background-color:  #f6fcf4;\n",
       "            color:  #000000;\n",
       "        }#T_d2167_row4_col1{\n",
       "            background-color:  #f5fbf3;\n",
       "            color:  #000000;\n",
       "        }#T_d2167_row4_col3{\n",
       "            background-color:  #eff9ec;\n",
       "            color:  #000000;\n",
       "        }#T_d2167_row5_col3{\n",
       "            background-color:  #e4f5df;\n",
       "            color:  #000000;\n",
       "        }#T_d2167_row6_col0{\n",
       "            background-color:  #f3faf0;\n",
       "            color:  #000000;\n",
       "        }#T_d2167_row6_col1{\n",
       "            background-color:  #f4fbf2;\n",
       "            color:  #000000;\n",
       "        }#T_d2167_row6_col3{\n",
       "            background-color:  #c8e9c1;\n",
       "            color:  #000000;\n",
       "        }#T_d2167_row7_col0,#T_d2167_row7_col1{\n",
       "            background-color:  #f2faef;\n",
       "            color:  #000000;\n",
       "        }</style><table id=\"T_d2167_\" ><thead>    <tr>        <th class=\"blank level0\" ></th>        <th class=\"col_heading level0 col0\" >age</th>        <th class=\"col_heading level0 col1\" >bmi</th>        <th class=\"col_heading level0 col2\" >children</th>        <th class=\"col_heading level0 col3\" >expenses</th>    </tr></thead><tbody>\n",
       "                <tr>\n",
       "                        <th id=\"T_d2167_level0_row0\" class=\"row_heading level0 row0\" >count</th>\n",
       "                        <td id=\"T_d2167_row0_col0\" class=\"data row0 col0\" >1338.000000</td>\n",
       "                        <td id=\"T_d2167_row0_col1\" class=\"data row0 col1\" >1338.000000</td>\n",
       "                        <td id=\"T_d2167_row0_col2\" class=\"data row0 col2\" >1338.000000</td>\n",
       "                        <td id=\"T_d2167_row0_col3\" class=\"data row0 col3\" >1338.000000</td>\n",
       "            </tr>\n",
       "            <tr>\n",
       "                        <th id=\"T_d2167_level0_row1\" class=\"row_heading level0 row1\" >mean</th>\n",
       "                        <td id=\"T_d2167_row1_col0\" class=\"data row1 col0\" >39.207025</td>\n",
       "                        <td id=\"T_d2167_row1_col1\" class=\"data row1 col1\" >30.665471</td>\n",
       "                        <td id=\"T_d2167_row1_col2\" class=\"data row1 col2\" >1.094918</td>\n",
       "                        <td id=\"T_d2167_row1_col3\" class=\"data row1 col3\" >13270.422414</td>\n",
       "            </tr>\n",
       "            <tr>\n",
       "                        <th id=\"T_d2167_level0_row2\" class=\"row_heading level0 row2\" >std</th>\n",
       "                        <td id=\"T_d2167_row2_col0\" class=\"data row2 col0\" >14.049960</td>\n",
       "                        <td id=\"T_d2167_row2_col1\" class=\"data row2 col1\" >6.098382</td>\n",
       "                        <td id=\"T_d2167_row2_col2\" class=\"data row2 col2\" >1.205493</td>\n",
       "                        <td id=\"T_d2167_row2_col3\" class=\"data row2 col3\" >12110.011240</td>\n",
       "            </tr>\n",
       "            <tr>\n",
       "                        <th id=\"T_d2167_level0_row3\" class=\"row_heading level0 row3\" >min</th>\n",
       "                        <td id=\"T_d2167_row3_col0\" class=\"data row3 col0\" >18.000000</td>\n",
       "                        <td id=\"T_d2167_row3_col1\" class=\"data row3 col1\" >16.000000</td>\n",
       "                        <td id=\"T_d2167_row3_col2\" class=\"data row3 col2\" >0.000000</td>\n",
       "                        <td id=\"T_d2167_row3_col3\" class=\"data row3 col3\" >1121.870000</td>\n",
       "            </tr>\n",
       "            <tr>\n",
       "                        <th id=\"T_d2167_level0_row4\" class=\"row_heading level0 row4\" >25%</th>\n",
       "                        <td id=\"T_d2167_row4_col0\" class=\"data row4 col0\" >27.000000</td>\n",
       "                        <td id=\"T_d2167_row4_col1\" class=\"data row4 col1\" >26.300000</td>\n",
       "                        <td id=\"T_d2167_row4_col2\" class=\"data row4 col2\" >0.000000</td>\n",
       "                        <td id=\"T_d2167_row4_col3\" class=\"data row4 col3\" >4740.287500</td>\n",
       "            </tr>\n",
       "            <tr>\n",
       "                        <th id=\"T_d2167_level0_row5\" class=\"row_heading level0 row5\" >50%</th>\n",
       "                        <td id=\"T_d2167_row5_col0\" class=\"data row5 col0\" >39.000000</td>\n",
       "                        <td id=\"T_d2167_row5_col1\" class=\"data row5 col1\" >30.400000</td>\n",
       "                        <td id=\"T_d2167_row5_col2\" class=\"data row5 col2\" >1.000000</td>\n",
       "                        <td id=\"T_d2167_row5_col3\" class=\"data row5 col3\" >9382.030000</td>\n",
       "            </tr>\n",
       "            <tr>\n",
       "                        <th id=\"T_d2167_level0_row6\" class=\"row_heading level0 row6\" >75%</th>\n",
       "                        <td id=\"T_d2167_row6_col0\" class=\"data row6 col0\" >51.000000</td>\n",
       "                        <td id=\"T_d2167_row6_col1\" class=\"data row6 col1\" >34.700000</td>\n",
       "                        <td id=\"T_d2167_row6_col2\" class=\"data row6 col2\" >2.000000</td>\n",
       "                        <td id=\"T_d2167_row6_col3\" class=\"data row6 col3\" >16639.915000</td>\n",
       "            </tr>\n",
       "            <tr>\n",
       "                        <th id=\"T_d2167_level0_row7\" class=\"row_heading level0 row7\" >max</th>\n",
       "                        <td id=\"T_d2167_row7_col0\" class=\"data row7 col0\" >64.000000</td>\n",
       "                        <td id=\"T_d2167_row7_col1\" class=\"data row7 col1\" >53.100000</td>\n",
       "                        <td id=\"T_d2167_row7_col2\" class=\"data row7 col2\" >5.000000</td>\n",
       "                        <td id=\"T_d2167_row7_col3\" class=\"data row7 col3\" >63770.430000</td>\n",
       "            </tr>\n",
       "    </tbody></table>"
      ],
      "text/plain": [
       "<pandas.io.formats.style.Styler at 0x28244c8b520>"
      ]
     },
     "execution_count": 5,
     "metadata": {},
     "output_type": "execute_result"
    }
   ],
   "source": [
    "# lets check the descriptive summary\n",
    "data.describe().style.background_gradient(cmap = \"Greens\")"
   ]
  },
  {
   "cell_type": "markdown",
   "metadata": {},
   "source": [
    "### Data Processing"
   ]
  },
  {
   "cell_type": "code",
   "execution_count": 6,
   "metadata": {},
   "outputs": [
    {
     "data": {
      "text/plain": [
       "Index([], dtype='object')"
      ]
     },
     "execution_count": 6,
     "metadata": {},
     "output_type": "execute_result"
    }
   ],
   "source": [
    "# lets perform encoding\n",
    "\n",
    "# as we know males have higher expense than females, lets encode males as 2, and females as 1, \n",
    "# similarly smokers, have highers expense, so we will encode smokers as 2, and non smokers as 1,\n",
    "# as we know that the south east region has higher expense than other regions\n",
    "\n",
    "data['sex'] = data['sex'].replace(('male','female'), (2, 1))\n",
    "data['smoker'] = data['smoker'].replace(('yes','no'), (2, 1))\n",
    "data['region'] = data['region'].replace(('southeast','southwest','northeast','northwest'),(2, 1, 1, 1))\n",
    "\n",
    "# let's check whether any categorical column is left\n",
    "data.select_dtypes('object').columns"
   ]
  },
  {
   "cell_type": "code",
   "execution_count": 7,
   "metadata": {},
   "outputs": [
    {
     "data": {
      "text/html": [
       "<div>\n",
       "<style scoped>\n",
       "    .dataframe tbody tr th:only-of-type {\n",
       "        vertical-align: middle;\n",
       "    }\n",
       "\n",
       "    .dataframe tbody tr th {\n",
       "        vertical-align: top;\n",
       "    }\n",
       "\n",
       "    .dataframe thead th {\n",
       "        text-align: right;\n",
       "    }\n",
       "</style>\n",
       "<table border=\"1\" class=\"dataframe\">\n",
       "  <thead>\n",
       "    <tr style=\"text-align: right;\">\n",
       "      <th></th>\n",
       "      <th>age</th>\n",
       "      <th>sex</th>\n",
       "      <th>bmi</th>\n",
       "      <th>children</th>\n",
       "      <th>smoker</th>\n",
       "      <th>region</th>\n",
       "      <th>expenses</th>\n",
       "    </tr>\n",
       "  </thead>\n",
       "  <tbody>\n",
       "    <tr>\n",
       "      <th>0</th>\n",
       "      <td>19</td>\n",
       "      <td>1</td>\n",
       "      <td>27.9</td>\n",
       "      <td>0</td>\n",
       "      <td>2</td>\n",
       "      <td>1</td>\n",
       "      <td>16884.92</td>\n",
       "    </tr>\n",
       "    <tr>\n",
       "      <th>1</th>\n",
       "      <td>18</td>\n",
       "      <td>2</td>\n",
       "      <td>33.8</td>\n",
       "      <td>1</td>\n",
       "      <td>1</td>\n",
       "      <td>2</td>\n",
       "      <td>1725.55</td>\n",
       "    </tr>\n",
       "    <tr>\n",
       "      <th>2</th>\n",
       "      <td>28</td>\n",
       "      <td>2</td>\n",
       "      <td>33.0</td>\n",
       "      <td>3</td>\n",
       "      <td>1</td>\n",
       "      <td>2</td>\n",
       "      <td>4449.46</td>\n",
       "    </tr>\n",
       "    <tr>\n",
       "      <th>3</th>\n",
       "      <td>33</td>\n",
       "      <td>2</td>\n",
       "      <td>22.7</td>\n",
       "      <td>0</td>\n",
       "      <td>1</td>\n",
       "      <td>1</td>\n",
       "      <td>21984.47</td>\n",
       "    </tr>\n",
       "    <tr>\n",
       "      <th>4</th>\n",
       "      <td>32</td>\n",
       "      <td>2</td>\n",
       "      <td>28.9</td>\n",
       "      <td>0</td>\n",
       "      <td>1</td>\n",
       "      <td>1</td>\n",
       "      <td>3866.86</td>\n",
       "    </tr>\n",
       "  </tbody>\n",
       "</table>\n",
       "</div>"
      ],
      "text/plain": [
       "   age  sex   bmi  children  smoker  region  expenses\n",
       "0   19    1  27.9         0       2       1  16884.92\n",
       "1   18    2  33.8         1       1       2   1725.55\n",
       "2   28    2  33.0         3       1       2   4449.46\n",
       "3   33    2  22.7         0       1       1  21984.47\n",
       "4   32    2  28.9         0       1       1   3866.86"
      ]
     },
     "execution_count": 7,
     "metadata": {},
     "output_type": "execute_result"
    }
   ],
   "source": [
    "# now lets check our data again\n",
    "data.head()"
   ]
  },
  {
   "cell_type": "code",
   "execution_count": 8,
   "metadata": {},
   "outputs": [
    {
     "name": "stdout",
     "output_type": "stream",
     "text": [
      "(1338,)\n",
      "Index(['age', 'sex', 'bmi', 'children', 'smoker', 'region'], dtype='object')\n"
     ]
    }
   ],
   "source": [
    "# lets form dependent and independent sets\n",
    "\n",
    "y = data['expenses']\n",
    "x = data.drop(['expenses'], axis = 1)\n",
    "\n",
    "print(y.shape)\n",
    "print(x.columns)"
   ]
  },
  {
   "cell_type": "code",
   "execution_count": 9,
   "metadata": {},
   "outputs": [
    {
     "name": "stdout",
     "output_type": "stream",
     "text": [
      "(1070, 6)\n",
      "(268, 6)\n",
      "(1070,)\n",
      "(268,)\n"
     ]
    }
   ],
   "source": [
    "# lets perform train test split\n",
    "\n",
    "from sklearn.model_selection import train_test_split\n",
    "\n",
    "x_train, x_test, y_train, y_test = train_test_split(x, y, test_size = 0.2, random_state = 0)\n",
    "\n",
    "print(x_train.shape)\n",
    "print(x_test.shape)\n",
    "print(y_train.shape)\n",
    "print(y_test.shape)"
   ]
  },
  {
   "cell_type": "code",
   "execution_count": 10,
   "metadata": {},
   "outputs": [],
   "source": [
    "# lets perform standardization\n",
    "\n",
    "from sklearn.preprocessing import StandardScaler\n",
    "\n",
    "sc = StandardScaler()\n",
    "x_train = sc.fit_transform(x_train)\n",
    "x_test = sc.transform(x_test)"
   ]
  },
  {
   "cell_type": "markdown",
   "metadata": {},
   "source": [
    "## Predictive Modelling"
   ]
  },
  {
   "cell_type": "code",
   "execution_count": 11,
   "metadata": {},
   "outputs": [],
   "source": [
    "# lets create the Model\n",
    "\n",
    "# lets create a simple Linear Regression Model\n",
    "from sklearn.linear_model import LinearRegression\n",
    "\n",
    "model1 = LinearRegression()\n",
    "model1.fit(x_train, y_train)\n",
    "\n",
    "y_pred1 = model1.predict(x_test)"
   ]
  },
  {
   "cell_type": "code",
   "execution_count": 12,
   "metadata": {},
   "outputs": [
    {
     "name": "stdout",
     "output_type": "stream",
     "text": [
      "RMSE Score : 5663.441749764154\n",
      "R2 Score : 0.7984378814790315\n"
     ]
    }
   ],
   "source": [
    "# lets check the Model accuracy\n",
    "from sklearn.metrics import r2_score, mean_squared_error\n",
    "\n",
    "mse = mean_squared_error(y_test, y_pred1)\n",
    "rmse = np.sqrt(mse)\n",
    "print(\"RMSE Score :\", rmse)\n",
    "\n",
    "r2_score = r2_score(y_test, y_pred1)\n",
    "print(\"R2 Score :\",r2_score)"
   ]
  },
  {
   "cell_type": "code",
   "execution_count": 13,
   "metadata": {},
   "outputs": [
    {
     "name": "stdout",
     "output_type": "stream",
     "text": [
      "RMSE Score : 4440.744023487814\n",
      "R2 Score : 0.876074831438463\n"
     ]
    }
   ],
   "source": [
    "# lets create a Random Forest Model\n",
    "\n",
    "from sklearn.ensemble import RandomForestRegressor\n",
    "\n",
    "model2 = RandomForestRegressor()\n",
    "model2.fit(x_train, y_train)\n",
    "\n",
    "y_pred2 = model2.predict(x_test)\n",
    "\n",
    "# lets check the Model accuracy\n",
    "from sklearn.metrics import r2_score, mean_squared_error\n",
    "\n",
    "mse = mean_squared_error(y_test, y_pred2)\n",
    "rmse = np.sqrt(mse)\n",
    "print(\"RMSE Score :\", rmse)\n",
    "\n",
    "r2_score = r2_score(y_test, y_pred2)\n",
    "print(\"R2 Score :\",r2_score)"
   ]
  },
  {
   "cell_type": "code",
   "execution_count": 14,
   "metadata": {},
   "outputs": [
    {
     "name": "stdout",
     "output_type": "stream",
     "text": [
      "RMSE Score : 4068.1289887739445\n",
      "R2 Score : 0.8959990113603554\n"
     ]
    }
   ],
   "source": [
    "# lets create a Gradient Boosting Model\n",
    "\n",
    "from sklearn.ensemble import GradientBoostingRegressor\n",
    "\n",
    "model3 = GradientBoostingRegressor()\n",
    "model3.fit(x_train, y_train)\n",
    "\n",
    "y_pred3 = model3.predict(x_test)\n",
    "\n",
    "# lets check the Model accuracy\n",
    "from sklearn.metrics import r2_score, mean_squared_error\n",
    "\n",
    "mse = mean_squared_error(y_test, y_pred3)\n",
    "rmse = np.sqrt(mse)\n",
    "print(\"RMSE Score :\", rmse)\n",
    "\n",
    "r2_score = r2_score(y_test, y_pred3)\n",
    "print(\"R2 Score :\",r2_score)"
   ]
  },
  {
   "cell_type": "code",
   "execution_count": null,
   "metadata": {},
   "outputs": [],
   "source": []
  }
 ],
 "metadata": {
  "kernelspec": {
   "display_name": "Python 3",
   "language": "python",
   "name": "python3"
  },
  "language_info": {
   "codemirror_mode": {
    "name": "ipython",
    "version": 3
   },
   "file_extension": ".py",
   "mimetype": "text/x-python",
   "name": "python",
   "nbconvert_exporter": "python",
   "pygments_lexer": "ipython3",
   "version": "3.8.8"
  }
 },
 "nbformat": 4,
 "nbformat_minor": 4
}
